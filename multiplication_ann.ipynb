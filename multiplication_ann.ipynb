{
 "cells": [
  {
   "cell_type": "code",
   "execution_count": 1,
   "id": "40c5d40d",
   "metadata": {},
   "outputs": [],
   "source": [
    "import numpy as np\n",
    "import pandas as pd\n",
    "import os\n"
   ]
  },
  {
   "cell_type": "code",
   "execution_count": 2,
   "id": "ae1ef0c8",
   "metadata": {},
   "outputs": [
    {
     "name": "stdout",
     "output_type": "stream",
     "text": [
      "[[ 7  8]\n",
      " [19 38]\n",
      " [37 26]\n",
      " [89 93]\n",
      " [47 69]\n",
      " [55 55]\n",
      " [ 1  9]\n",
      " [ 8 39]\n",
      " [44 98]\n",
      " [11 17]]\n",
      "[  56  722  962 8277 3243 3025    9  312 4312  187]\n"
     ]
    }
   ],
   "source": [
    "root = 'C:/Users/onurt/OneDrive/Masaüstü/ardic/yapay_zeka/train_data/'   #veri setinin dosya yolu\n",
    "\n",
    "data = pd.read_csv(root + \"train.csv\")\n",
    "data.shape\n",
    "\n",
    "train_data = data[data.usage == \"Training\"]\n",
    "train_inputs = train_data.inputs.str.split(\" \").tolist()\n",
    "train_inputs = np.array(train_inputs, dtype=int)\n",
    "train_outputs = train_data.output.tolist()\n",
    "train_outputs = np.array(train_outputs, dtype=int)\n",
    "\n",
    "val_data = data[data.usage == \"Validation\"]\n",
    "val_inputs = val_data.inputs.str.split(\" \").tolist()\n",
    "val_inputs = np.array(val_inputs, dtype=int)\n",
    "val_outputs = val_data.output.tolist()\n",
    "val_outputs = np.array(val_outputs, dtype=int)\n",
    "\n",
    "test_data = data[data.usage == \"Test\"]\n",
    "test_inputs = test_data.inputs.str.split(\" \").tolist()\n",
    "test_inputs = np.array(test_inputs, dtype=int)\n",
    "test_outputs = test_data.output.tolist()\n",
    "test_outputs = np.array(test_outputs, dtype=int)\n",
    "\n",
    "print(test_inputs)\n",
    "print(test_outputs)"
   ]
  },
  {
   "cell_type": "code",
   "execution_count": 3,
   "id": "7645c0db",
   "metadata": {},
   "outputs": [],
   "source": [
    "for i in range(train_inputs.shape[0]):   # train veri seti sonuçlarin kontrolu\n",
    "    a = train_inputs[i,0]\n",
    "    b = train_inputs[i,1]\n",
    "    if a*b != train_outputs[i]:\n",
    "        print(i)\n"
   ]
  },
  {
   "cell_type": "code",
   "execution_count": 4,
   "id": "859fb225",
   "metadata": {},
   "outputs": [],
   "source": [
    "for i in range(val_inputs.shape[0]):   # train veri seti sonuçlarin kontrolu\n",
    "    a = val_inputs[i,0]\n",
    "    b = val_inputs[i,1]\n",
    "    if a*b != val_outputs[i]:\n",
    "        print(i)"
   ]
  },
  {
   "cell_type": "code",
   "execution_count": 5,
   "id": "3f9ff6d6",
   "metadata": {},
   "outputs": [],
   "source": [
    "for i in range(test_inputs.shape[0]):   # test veri seti sonuçlarin kontrolu\n",
    "    a = test_inputs[i,0]\n",
    "    b = test_inputs[i,1]\n",
    "    if a*b != test_outputs[i]:\n",
    "        print(i)\n"
   ]
  },
  {
   "cell_type": "code",
   "execution_count": 6,
   "id": "57ad01c4",
   "metadata": {},
   "outputs": [],
   "source": [
    "import tensorflow as tf\n",
    "import keras\n",
    "from keras import backend as K\n",
    "from keras.models import Sequential, Model\n",
    "from keras.layers import *\n",
    "from keras import models\n",
    "import math\n"
   ]
  },
  {
   "cell_type": "code",
   "execution_count": 7,
   "id": "50dd4cbc",
   "metadata": {},
   "outputs": [],
   "source": [
    "def soft_acc(y_true, y_pred):\n",
    "    return K.mean(K.equal(K.round(y_true), K.round(y_pred)))"
   ]
  },
  {
   "cell_type": "code",
   "execution_count": 8,
   "id": "526ef10f",
   "metadata": {},
   "outputs": [],
   "source": [
    "def log(x):\n",
    "    logx = []\n",
    "    logy = []\n",
    "    for i in range(x.shape[0]):\n",
    "        logx.append([np.log(abs(x[i][0])), np.log(abs(x[i][1]))])\n",
    "        logy.append([logx[i][0] + logx[i][1]])\n",
    "    return logx, logy    "
   ]
  },
  {
   "cell_type": "code",
   "execution_count": 9,
   "id": "8d44ee56",
   "metadata": {},
   "outputs": [],
   "source": [
    "x_train, y_train = log(train_inputs)    #giris verilerinin logaritmasi\n",
    "x_val , y_val = log(val_inputs) \n",
    "\n",
    "#model 2-10-1 sinir agi\n",
    "model = Sequential()\n",
    "model.add(Dense(10, input_dim=2, activation=\"linear\"))\n",
    "model.add(Dense(1,))\n",
    "\n",
    "model.compile(optimizer=\"Adam\", loss=\"mean_squared_error\",metrics=[soft_acc,'mean_absolute_error'] )\n",
    "hist = model.fit(x_train, y_train, epochs=2000, batch_size=10, validation_data=(x_val, y_val),verbose=1)\n",
    "\n"
   ]
  },
  {
   "cell_type": "code",
   "execution_count": 10,
   "id": "e9974b07",
   "metadata": {},
   "outputs": [
    {
     "name": "stdout",
     "output_type": "stream",
     "text": [
      "5/5 [==============================] - 0s 2ms/step\n",
      "56  ==  55.99999068260195\n",
      "722  ==  721.9999366258154\n",
      "962  ==  961.9993608957158\n",
      "8277  ==  8277.00460857147\n",
      "3243  ==  3243.0005140941025\n",
      "3025  ==  3025.000565212439\n",
      "9  ==  8.999998211246542\n",
      "312  ==  311.9999075640997\n",
      "4312  ==  4312.002925903686\n",
      "187  ==  187.0000982589664\n"
     ]
    }
   ],
   "source": [
    "x_test, y_test = log(test_inputs)                 #test\n",
    "\n",
    "results = model.predict(x_test, batch_size=2)\n",
    "x_test = np.array(x_test)\n",
    "\n",
    "for i in range(x_test.shape[0]):\n",
    "    sign = 1\n",
    "    if test_inputs[i][0] < 0 :       #isareti negatif olan girdilerin kontrolu\n",
    "        sign = -1*sign\n",
    "    if test_inputs[i][1] < 0 :\n",
    "        sign = -1*sign\n",
    "    print(test_inputs[i][0]*test_inputs[i][1], ' == '  , sign*math.exp(results[i]))"
   ]
  },
  {
   "cell_type": "code",
   "execution_count": 11,
   "id": "2cc2c7f6",
   "metadata": {},
   "outputs": [
    {
     "name": "stdout",
     "output_type": "stream",
     "text": [
      "1/1 [==============================] - 0s 79ms/step\n",
      "-25762  ==  -25761.962412087538\n"
     ]
    }
   ],
   "source": [
    "#     dizideki degerler ile test\n",
    "x = np.array([[-11, 2342]])         \n",
    "\n",
    "x_test, _ = log(x)              \n",
    "\n",
    "results = model.predict(x_test)\n",
    "\n",
    "sign = 1\n",
    "if x[0][0] < 0 :       #isareti negatif olan girdilerin kontrolu\n",
    "    sign = -1*sign\n",
    "if x[0][1] < 0 :\n",
    "    sign = -1*sign\n",
    "print(x[0][0]*x[0][1], ' == '  , sign*math.exp(results))"
   ]
  },
  {
   "cell_type": "code",
   "execution_count": 12,
   "id": "2f1bfb4a",
   "metadata": {},
   "outputs": [
    {
     "data": {
      "image/png": "[encoded data removed]",
      "text/plain": [
       "<Figure size 700x300 with 1 Axes>"
      ]
     },
     "metadata": {},
     "output_type": "display_data"
    },
    {
     "data": {
      "image/png": "[encoded data removed]",
      "text/plain": [
       "<Figure size 700x300 with 1 Axes>"
      ]
     },
     "metadata": {},
     "output_type": "display_data"
    },
    {
     "data": {
      "image/png": "[encoded data removed]",
      "text/plain": [
       "<Figure size 700x300 with 1 Axes>"
      ]
     },
     "metadata": {},
     "output_type": "display_data"
    }
   ],
   "source": [
    "import matplotlib.pyplot as plt\n",
    "\n",
    "plt.figure(figsize=(7,3))\n",
    "plt.plot(hist.history['loss'])\n",
    "plt.plot(hist.history['val_loss'])\n",
    "plt.title('loss')\n",
    "plt.ylabel('loss')\n",
    "plt.xlabel('epoch')\n",
    "plt.legend(['test', 'train'], loc='upper right')\n",
    "plt.show()\n",
    "\n",
    "plt.figure(figsize=(7,3))\n",
    "plt.plot(hist.history['mean_absolute_error'])\n",
    "plt.title('MAE')\n",
    "plt.ylabel('MAE')\n",
    "plt.xlabel('epoch')\n",
    "plt.legend(['test', 'train'], loc='upper right')\n",
    "plt.show()\n",
    "\n",
    "plt.figure(figsize=(7,3))\n",
    "plt.plot(hist.history['val_soft_acc'])\n",
    "plt.title('Accuracy')\n",
    "plt.ylabel('Accuracy')\n",
    "plt.xlabel('epoch')\n",
    "plt.legend(['test', 'train'], loc='upper right')\n",
    "plt.show()"
   ]
  }
 ],
 "metadata": {
  "kernelspec": {
   "display_name": "Python 3 (ipykernel)",
   "language": "python",
   "name": "python3"
  },
  "language_info": {
   "codemirror_mode": {
    "name": "ipython",
    "version": 3
   },
   "file_extension": ".py",
   "mimetype": "text/x-python",
   "name": "python",
   "nbconvert_exporter": "python",
   "pygments_lexer": "ipython3",
   "version": "3.9.7"
  },
  "vscode": {
   "interpreter": {
    "hash": "2d118d79f9998ca28a708acc4256da55af8ca8ab943a1a6f131ce863460f5260"
   }
  }
 },
 "nbformat": 4,
 "nbformat_minor": 5
}
